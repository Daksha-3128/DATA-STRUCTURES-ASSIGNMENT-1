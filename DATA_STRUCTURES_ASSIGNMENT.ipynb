{
  "nbformat": 4,
  "nbformat_minor": 0,
  "metadata": {
    "colab": {
      "provenance": []
    },
    "kernelspec": {
      "name": "python3",
      "display_name": "Python 3"
    },
    "language_info": {
      "name": "python"
    }
  },
  "cells": [
    {
      "cell_type": "code",
      "execution_count": null,
      "metadata": {
        "colab": {
          "base_uri": "https://localhost:8080/"
        },
        "id": "jBhg0xhQ8uPz",
        "outputId": "11031506-7a60-47d1-bd72-73f2553596e0"
      },
      "outputs": [
        {
          "output_type": "stream",
          "name": "stdout",
          "text": [
            "Daksha\n"
          ]
        }
      ],
      "source": [
        "# QUESTION-1 WRITE A CODE TO CREATE A STRING WITH YOUR NAME AND PRINT IT\n",
        "name = \"Daksha\"\n",
        "print(name)"
      ]
    },
    {
      "cell_type": "code",
      "source": [
        "# QUESTION-2 WRITE A CODE TO FIND LENGTH OF THE STRING \"HELLO WORLD!\"\n",
        "str1 = \"Hello World!\"\n",
        "len(str1)\n"
      ],
      "metadata": {
        "colab": {
          "base_uri": "https://localhost:8080/"
        },
        "id": "g0-75BKV9CyY",
        "outputId": "c03f7f18-938d-4c39-d53a-f7fec6d8197d"
      },
      "execution_count": null,
      "outputs": [
        {
          "output_type": "execute_result",
          "data": {
            "text/plain": [
              "12"
            ]
          },
          "metadata": {},
          "execution_count": 3
        }
      ]
    },
    {
      "cell_type": "code",
      "source": [
        "# QUESTION-3 WRITE A CODE TO SLICE FIRST THREE CHARACTERS FROM THE STRING \"Python Programming\"\n",
        "str1 = \"Python Programming\"\n",
        "str1[0:4]\n"
      ],
      "metadata": {
        "colab": {
          "base_uri": "https://localhost:8080/",
          "height": 36
        },
        "id": "ygLzmQl39eeX",
        "outputId": "19692470-f00f-446f-feb3-35a94bae0516"
      },
      "execution_count": null,
      "outputs": [
        {
          "output_type": "execute_result",
          "data": {
            "text/plain": [
              "'Pyth'"
            ],
            "application/vnd.google.colaboratory.intrinsic+json": {
              "type": "string"
            }
          },
          "metadata": {},
          "execution_count": 4
        }
      ]
    },
    {
      "cell_type": "code",
      "source": [
        "# QUESTION-4 WRITE A CODE TO CONVERT STRING \"hello\" to upper case\n",
        "text = \"hello\"\n",
        "text.upper()\n",
        "\n"
      ],
      "metadata": {
        "colab": {
          "base_uri": "https://localhost:8080/",
          "height": 36
        },
        "id": "vZeAUGyg-BTB",
        "outputId": "00f4aecd-2d0e-4e58-e2c6-c4bd44df4426"
      },
      "execution_count": null,
      "outputs": [
        {
          "output_type": "execute_result",
          "data": {
            "text/plain": [
              "'HELLO'"
            ],
            "application/vnd.google.colaboratory.intrinsic+json": {
              "type": "string"
            }
          },
          "metadata": {},
          "execution_count": 5
        }
      ]
    },
    {
      "cell_type": "code",
      "source": [
        "# QUESTION-5 Write a code to replace the word 'apple' with 'orange' in the string 'I like apple'\n",
        "sentence = \"I like apple\"\n",
        "sentence.replace(\"apple\", \"orange\")"
      ],
      "metadata": {
        "colab": {
          "base_uri": "https://localhost:8080/",
          "height": 36
        },
        "id": "zDpK0BZn-XhV",
        "outputId": "c3fa2695-0154-4616-9070-a888ec633835"
      },
      "execution_count": null,
      "outputs": [
        {
          "output_type": "execute_result",
          "data": {
            "text/plain": [
              "'I like orange'"
            ],
            "application/vnd.google.colaboratory.intrinsic+json": {
              "type": "string"
            }
          },
          "metadata": {},
          "execution_count": 6
        }
      ]
    },
    {
      "cell_type": "code",
      "source": [
        "# QUESTION-6 Write a code to create a list with numbers 1 to 5 and print it\n",
        "numbers = [1,2,3,4,5]\n",
        "print(numbers)"
      ],
      "metadata": {
        "colab": {
          "base_uri": "https://localhost:8080/"
        },
        "id": "hXhv7X4__QEl",
        "outputId": "24ba6784-89cd-41e3-86b1-9e4bd2b0236d"
      },
      "execution_count": null,
      "outputs": [
        {
          "output_type": "stream",
          "name": "stdout",
          "text": [
            "[1, 2, 3, 4, 5]\n"
          ]
        }
      ]
    },
    {
      "cell_type": "code",
      "source": [
        "# QUESTION-7 Write a code to append the number 10 to the list [1,2,3,4]\n",
        "list1 = [1,2,3,4]\n",
        "list1.append(10)\n",
        "list1"
      ],
      "metadata": {
        "colab": {
          "base_uri": "https://localhost:8080/"
        },
        "id": "fF793n45_pAv",
        "outputId": "483c6a4b-c7ed-4f50-9f76-3016b577dcf0"
      },
      "execution_count": null,
      "outputs": [
        {
          "output_type": "execute_result",
          "data": {
            "text/plain": [
              "[1, 2, 3, 4, 10]"
            ]
          },
          "metadata": {},
          "execution_count": 8
        }
      ]
    },
    {
      "cell_type": "code",
      "source": [
        "# QUESTION-8 Write a code to remove the number 3 from the list [1,2,3,4,5]\n",
        "list2 = [1,2,3,4,5]\n",
        "list2"
      ],
      "metadata": {
        "colab": {
          "base_uri": "https://localhost:8080/"
        },
        "id": "Z5-VOzoQATxC",
        "outputId": "227f7f0e-bb36-4bbc-e82e-227b54848f62"
      },
      "execution_count": null,
      "outputs": [
        {
          "output_type": "execute_result",
          "data": {
            "text/plain": [
              "[1, 2, 3, 4, 5]"
            ]
          },
          "metadata": {},
          "execution_count": 9
        }
      ]
    },
    {
      "cell_type": "code",
      "source": [
        "list2.remove(3)\n",
        "list2\n",
        "\n",
        "\n",
        "\n"
      ],
      "metadata": {
        "colab": {
          "base_uri": "https://localhost:8080/"
        },
        "id": "yRSAz0_HAwin",
        "outputId": "02de7d2a-09f3-42e5-c2a0-43859055e3ab"
      },
      "execution_count": null,
      "outputs": [
        {
          "output_type": "execute_result",
          "data": {
            "text/plain": [
              "[1, 2, 4, 5]"
            ]
          },
          "metadata": {},
          "execution_count": 10
        }
      ]
    },
    {
      "cell_type": "code",
      "source": [
        "# QUESTION-9 Write a code to access the second element in the list ['a','b','c','d']\n",
        "list1 = ['a','b','c','d']\n",
        "list1[2]"
      ],
      "metadata": {
        "colab": {
          "base_uri": "https://localhost:8080/",
          "height": 36
        },
        "id": "OnQQ5kxEA5SF",
        "outputId": "8a18c547-7e08-463a-a0da-4c2f029353f9"
      },
      "execution_count": null,
      "outputs": [
        {
          "output_type": "execute_result",
          "data": {
            "text/plain": [
              "'c'"
            ],
            "application/vnd.google.colaboratory.intrinsic+json": {
              "type": "string"
            }
          },
          "metadata": {},
          "execution_count": 11
        }
      ]
    },
    {
      "cell_type": "code",
      "source": [
        "# QUESTION-10 Write a code to reverse the list [10,20,30,40,50]\n",
        "list1 = [10,20,30,40]\n",
        "list1[::-1]\n",
        "\n"
      ],
      "metadata": {
        "colab": {
          "base_uri": "https://localhost:8080/"
        },
        "id": "ihsQU04lBWKb",
        "outputId": "517b3cfe-728b-490e-fa2a-7f365621ac32"
      },
      "execution_count": null,
      "outputs": [
        {
          "output_type": "execute_result",
          "data": {
            "text/plain": [
              "[40, 30, 20, 10]"
            ]
          },
          "metadata": {},
          "execution_count": 16
        }
      ]
    },
    {
      "cell_type": "code",
      "source": [
        "# QUESTION-11 Write a code to create a tuple with the elements 100,200,300 and print it\n",
        "tuple1 = (100,200,300)\n",
        "print(tuple1)\n"
      ],
      "metadata": {
        "colab": {
          "base_uri": "https://localhost:8080/"
        },
        "id": "A5vzih9BCQGd",
        "outputId": "337187d9-22f6-42d7-b580-0ecfd809399d"
      },
      "execution_count": null,
      "outputs": [
        {
          "output_type": "stream",
          "name": "stdout",
          "text": [
            "(100, 200, 300)\n"
          ]
        }
      ]
    },
    {
      "cell_type": "code",
      "source": [
        "# QUESTION-12 Write a code to access the second to last element of the tuple ('red','green','blue','yellow')\n",
        "tuple2 = ('red','green','blue','yellow')\n",
        "tuple2[2:4]\n"
      ],
      "metadata": {
        "colab": {
          "base_uri": "https://localhost:8080/"
        },
        "id": "ThcaH6GtDM9p",
        "outputId": "2bba420f-723a-4889-e194-8337c8dc8afc"
      },
      "execution_count": null,
      "outputs": [
        {
          "output_type": "execute_result",
          "data": {
            "text/plain": [
              "('blue', 'yellow')"
            ]
          },
          "metadata": {},
          "execution_count": 20
        }
      ]
    },
    {
      "cell_type": "code",
      "source": [
        "# QUESTION-13 Write a code to find the minimum number in tuple (10,20,5,15)\n",
        "t1 = (10,20,5,15)\n",
        "min(t1)\n"
      ],
      "metadata": {
        "colab": {
          "base_uri": "https://localhost:8080/"
        },
        "id": "Srwt2eeMD0V0",
        "outputId": "54f7d628-d55a-49fa-baf4-9e6c96641a4e"
      },
      "execution_count": null,
      "outputs": [
        {
          "output_type": "execute_result",
          "data": {
            "text/plain": [
              "5"
            ]
          },
          "metadata": {},
          "execution_count": 21
        }
      ]
    },
    {
      "cell_type": "code",
      "source": [
        "# QUESTION-14 Write a code to find thr index of the element 'cat' in tuple ('dog','cat','rabbit')\n",
        "tuple1 = ('dog','cat','rabbit')\n",
        "tuple1.index('cat')\n"
      ],
      "metadata": {
        "colab": {
          "base_uri": "https://localhost:8080/"
        },
        "id": "Aqf2blv2EWus",
        "outputId": "33bfc234-c8d0-48f5-92c7-9729f05f25b4"
      },
      "execution_count": null,
      "outputs": [
        {
          "output_type": "execute_result",
          "data": {
            "text/plain": [
              "1"
            ]
          },
          "metadata": {},
          "execution_count": 22
        }
      ]
    },
    {
      "cell_type": "code",
      "source": [
        "# QUESTION-15 Write a code to create a tuple containing three different fruits and check if kiwi is in it\n",
        "fruits_name = (\"Mango\",\"Banana\",\"Orange\")\n",
        "\"kiwi\" in fruits_name"
      ],
      "metadata": {
        "colab": {
          "base_uri": "https://localhost:8080/"
        },
        "id": "wYPE-bnVE6qk",
        "outputId": "befd3bc3-8263-48f1-9553-1fcd9e211dae"
      },
      "execution_count": null,
      "outputs": [
        {
          "output_type": "execute_result",
          "data": {
            "text/plain": [
              "False"
            ]
          },
          "metadata": {},
          "execution_count": 23
        }
      ]
    },
    {
      "cell_type": "code",
      "source": [
        "# QUESTION-16 Write a code to create a set with the elements 'a','b','c' and print it\n",
        "set1 = {'a','b','c'}\n",
        "print(set1)\n"
      ],
      "metadata": {
        "colab": {
          "base_uri": "https://localhost:8080/"
        },
        "id": "vGIETdHBFp-l",
        "outputId": "bc8f4f82-8237-47c6-e409-2483c271332b"
      },
      "execution_count": null,
      "outputs": [
        {
          "output_type": "stream",
          "name": "stdout",
          "text": [
            "{'a', 'b', 'c'}\n"
          ]
        }
      ]
    },
    {
      "cell_type": "code",
      "source": [
        "# QUESTION-17 Write a code to clear all elements from the set {1,2,3,4,5}\n",
        "numbers = {1,2,3,4,5}\n",
        "numbers.clear()\n",
        "numbers"
      ],
      "metadata": {
        "colab": {
          "base_uri": "https://localhost:8080/"
        },
        "id": "A4g4SkKMGCdb",
        "outputId": "c65a8f14-b7d0-47ae-bb04-aef74ce14797"
      },
      "execution_count": null,
      "outputs": [
        {
          "output_type": "execute_result",
          "data": {
            "text/plain": [
              "set()"
            ]
          },
          "metadata": {},
          "execution_count": 25
        }
      ]
    },
    {
      "cell_type": "code",
      "source": [
        "# QUESTION-18 Write a code to remove the element 4 from the set {1,2,3,4}\n",
        "s = {1,2,3,4}\n",
        "s.remove(4)\n",
        "s"
      ],
      "metadata": {
        "colab": {
          "base_uri": "https://localhost:8080/"
        },
        "id": "ZQ5WGF9OGdCZ",
        "outputId": "91ee08e2-96e6-4876-c0e9-e004b468a58c"
      },
      "execution_count": null,
      "outputs": [
        {
          "output_type": "execute_result",
          "data": {
            "text/plain": [
              "{1, 2, 3}"
            ]
          },
          "metadata": {},
          "execution_count": 27
        }
      ]
    },
    {
      "cell_type": "code",
      "source": [
        "# QUESTION-19 Write a code to find the union of two sets {1,2,3} and {3,4,5}\n",
        "s1 = {1,2,3}\n",
        "s2 = {3,4,5}\n",
        "s1|s2"
      ],
      "metadata": {
        "colab": {
          "base_uri": "https://localhost:8080/"
        },
        "id": "oy6lrja3G_eO",
        "outputId": "1fda92c2-4ae6-4c7c-8c1d-67ac8464c16b"
      },
      "execution_count": null,
      "outputs": [
        {
          "output_type": "execute_result",
          "data": {
            "text/plain": [
              "{1, 2, 3, 4, 5}"
            ]
          },
          "metadata": {},
          "execution_count": 28
        }
      ]
    },
    {
      "cell_type": "code",
      "source": [
        "\n",
        "# QUESTION-20 Write a code to find the intersection of two sets {1,2,3} and {2,3,4}\n",
        "s1 = {1,2,3}\n",
        "s2 = {2,3,4}\n",
        "s1&s2"
      ],
      "metadata": {
        "colab": {
          "base_uri": "https://localhost:8080/"
        },
        "id": "YTHLGqJkHd8b",
        "outputId": "abd0e9a4-8298-4921-ca34-467202173ca6"
      },
      "execution_count": null,
      "outputs": [
        {
          "output_type": "execute_result",
          "data": {
            "text/plain": [
              "{2, 3}"
            ]
          },
          "metadata": {},
          "execution_count": 29
        }
      ]
    },
    {
      "cell_type": "code",
      "source": [
        "# QUESTION-21 Write a code to create a dictionary with the keys 'name','age' and 'city' and print it\n",
        "d = {\"name\":\"Daksha\", \"age\":19, \"city\":\"Delhi\"}\n",
        "d"
      ],
      "metadata": {
        "colab": {
          "base_uri": "https://localhost:8080/"
        },
        "id": "xwc8yvVuH3kI",
        "outputId": "e0683792-c66b-43b5-ec09-2b2500ae1ed0"
      },
      "execution_count": null,
      "outputs": [
        {
          "output_type": "execute_result",
          "data": {
            "text/plain": [
              "{'name': 'Daksha', 'age': 19, 'city': 'Delhi'}"
            ]
          },
          "metadata": {},
          "execution_count": 30
        }
      ]
    },
    {
      "cell_type": "code",
      "source": [
        "# QUESTION-22 Write a code to add a new key value pair\"country:USA to the dictionary {name:John,age:25}\n",
        "d = {\"name\":\"John\",\"age\":25}\n",
        "d\n"
      ],
      "metadata": {
        "colab": {
          "base_uri": "https://localhost:8080/"
        },
        "id": "mC0Q_Gb_IfYm",
        "outputId": "a911e7aa-fd6e-447a-9a57-5886f0100c68"
      },
      "execution_count": null,
      "outputs": [
        {
          "output_type": "execute_result",
          "data": {
            "text/plain": [
              "{'name': 'John', 'age': 25}"
            ]
          },
          "metadata": {},
          "execution_count": 31
        }
      ]
    },
    {
      "cell_type": "code",
      "source": [
        "d[\"country\"]=\"USA\"\n",
        "d"
      ],
      "metadata": {
        "colab": {
          "base_uri": "https://localhost:8080/"
        },
        "id": "MZpb595AJR3R",
        "outputId": "d543957d-5092-4fc6-bcfb-811e68da143f"
      },
      "execution_count": null,
      "outputs": [
        {
          "output_type": "execute_result",
          "data": {
            "text/plain": [
              "{'name': 'John', 'age': 25, 'country': 'USA'}"
            ]
          },
          "metadata": {},
          "execution_count": 33
        }
      ]
    },
    {
      "cell_type": "code",
      "source": [
        "# QUESTION-23 Write a code to access the value associated with the key \"name\" in the dictionary {\"name\":Alice,\"age\":30}\n",
        "d1 = {\"name\":\"Alice\",\"age\":30}\n",
        "d1.get(\"name\")\n"
      ],
      "metadata": {
        "id": "GB-Me42FJY7r",
        "colab": {
          "base_uri": "https://localhost:8080/",
          "height": 36
        },
        "outputId": "86a85a15-5f31-4eec-aae8-30bd1760bf2b"
      },
      "execution_count": 4,
      "outputs": [
        {
          "output_type": "execute_result",
          "data": {
            "text/plain": [
              "'Alice'"
            ],
            "application/vnd.google.colaboratory.intrinsic+json": {
              "type": "string"
            }
          },
          "metadata": {},
          "execution_count": 4
        }
      ]
    },
    {
      "cell_type": "code",
      "source": [
        "  # QUESTION-24 Write a code to remove the key 'age'from the dictionary {\"name\":'Bob', \"age\":22,\"city\":'New York'}\n",
        "d = {\"name\":\"Bob\",\"age\":22,\"city\":\"New York\"}\n",
        "d.pop(\"age\")"
      ],
      "metadata": {
        "colab": {
          "base_uri": "https://localhost:8080/"
        },
        "id": "PRuuSKG5eDd1",
        "outputId": "1291dd12-e50b-4309-b19d-4b4f5cdbc060"
      },
      "execution_count": 5,
      "outputs": [
        {
          "output_type": "execute_result",
          "data": {
            "text/plain": [
              "22"
            ]
          },
          "metadata": {},
          "execution_count": 5
        }
      ]
    },
    {
      "cell_type": "code",
      "source": [
        "d"
      ],
      "metadata": {
        "colab": {
          "base_uri": "https://localhost:8080/"
        },
        "id": "H5KJvs7GfulD",
        "outputId": "7084b047-bb03-4e37-eed9-8db843773d67"
      },
      "execution_count": 6,
      "outputs": [
        {
          "output_type": "execute_result",
          "data": {
            "text/plain": [
              "{'name': 'Bob', 'city': 'New York'}"
            ]
          },
          "metadata": {},
          "execution_count": 6
        }
      ]
    },
    {
      "cell_type": "code",
      "source": [
        "  # QUESTION-25 Write a code to check if the key 'city' exists in the dictionary {\"name\":Alice,\"city\":'Paris'}\n",
        "  d2 = {\"name\":\"Alice\",\"city\":\"Paris\"}\n",
        "  \"city\"in d2\n"
      ],
      "metadata": {
        "colab": {
          "base_uri": "https://localhost:8080/"
        },
        "id": "Wd3zpS2ifwUt",
        "outputId": "a0cea8df-384c-4376-b4db-0d51e1787f48"
      },
      "execution_count": 15,
      "outputs": [
        {
          "output_type": "execute_result",
          "data": {
            "text/plain": [
              "True"
            ]
          },
          "metadata": {},
          "execution_count": 15
        }
      ]
    },
    {
      "cell_type": "code",
      "source": [
        "# QUESTION-26 Write a code to create a list , a tuple and a dictionary and print them all\n",
        "d = {\"name\":\"Daksha\",\"age\":19,\"city\":\"Delhi\"}\n",
        "l1 = [\"Ajay\",2.2,2,5,7,(5+6j)]\n",
        "t1 = (\"pwskills\",2,8,9,10)\n",
        "print(d)\n",
        "print(l1)\n",
        "print(t1)\n",
        "\n",
        "\n"
      ],
      "metadata": {
        "colab": {
          "base_uri": "https://localhost:8080/"
        },
        "id": "B_frUErfhKSH",
        "outputId": "38e688b9-aa52-4d11-ee0a-39e6a791245c"
      },
      "execution_count": 14,
      "outputs": [
        {
          "output_type": "stream",
          "name": "stdout",
          "text": [
            "{'name': 'Daksha', 'age': 19, 'city': 'Delhi'}\n",
            "['Ajay', 2.2, 2, 5, 7, (5+6j)]\n",
            "('pwskills', 2, 8, 9, 10)\n"
          ]
        }
      ]
    },
    {
      "cell_type": "code",
      "source": [
        "# QUESTION-27 Write a code to create a list of 5 random numbers between 1 and 100, sort it in ascending order and print the result(replaced)\n",
        "string_list = [89,40,55,20,67]\n",
        "sorted(string_list)\n"
      ],
      "metadata": {
        "colab": {
          "base_uri": "https://localhost:8080/"
        },
        "id": "JIxJ305qjVrw",
        "outputId": "b6485004-3b55-425f-9e1b-8187a9a074b4"
      },
      "execution_count": 16,
      "outputs": [
        {
          "output_type": "execute_result",
          "data": {
            "text/plain": [
              "[20, 40, 55, 67, 89]"
            ]
          },
          "metadata": {},
          "execution_count": 16
        }
      ]
    },
    {
      "cell_type": "code",
      "source": [
        "# QUESTION-28 Write a code to create a list with strings and print the element of the third index\n",
        "l1 = [\"pwskills\",\"vishnu\",\"Madhav\",\"Daksha\"]\n",
        "l1[3]"
      ],
      "metadata": {
        "colab": {
          "base_uri": "https://localhost:8080/",
          "height": 36
        },
        "id": "-EsZkfSHkY34",
        "outputId": "061d814c-1a3f-4c02-80ef-df347b377bbb"
      },
      "execution_count": 11,
      "outputs": [
        {
          "output_type": "execute_result",
          "data": {
            "text/plain": [
              "'Daksha'"
            ],
            "application/vnd.google.colaboratory.intrinsic+json": {
              "type": "string"
            }
          },
          "metadata": {},
          "execution_count": 11
        }
      ]
    },
    {
      "cell_type": "code",
      "source": [
        "# QUESTION-29 Write a code to combine two dictionaries into one and print the result\n",
        "user_id = [1,2,3]\n",
        "user_name = [\"a21\",\"a22\",\"a23\"]\n",
        "{u_id:u_name for u_id,u_name in zip (user_id,user_name)}"
      ],
      "metadata": {
        "colab": {
          "base_uri": "https://localhost:8080/"
        },
        "id": "7uHqo20ek14A",
        "outputId": "79c63d54-17da-4432-bf1f-f84d1fafbc37"
      },
      "execution_count": 12,
      "outputs": [
        {
          "output_type": "execute_result",
          "data": {
            "text/plain": [
              "{1: 'a21', 2: 'a22', 3: 'a23'}"
            ]
          },
          "metadata": {},
          "execution_count": 12
        }
      ]
    },
    {
      "cell_type": "code",
      "source": [
        "# QUESTION-30 Write a code to convert a list of strings into set\n",
        "l1 = [\"ajay\",\"madhav\",\"daksha\",\"dwiti\"]\n",
        "set(l1)\n"
      ],
      "metadata": {
        "colab": {
          "base_uri": "https://localhost:8080/"
        },
        "id": "w0Dbdrhsm-tA",
        "outputId": "aefcef36-2a93-40a4-b367-b72224efb31c"
      },
      "execution_count": 13,
      "outputs": [
        {
          "output_type": "execute_result",
          "data": {
            "text/plain": [
              "{'ajay', 'daksha', 'dwiti', 'madhav'}"
            ]
          },
          "metadata": {},
          "execution_count": 13
        }
      ]
    },
    {
      "cell_type": "code",
      "source": [],
      "metadata": {
        "id": "DRUcq5-fn5ND"
      },
      "execution_count": null,
      "outputs": []
    }
  ]
}